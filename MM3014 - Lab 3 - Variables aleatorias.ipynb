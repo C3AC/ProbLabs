{
 "cells": [
  {
   "cell_type": "markdown",
   "id": "60200b30",
   "metadata": {},
   "source": [
    "# Laboratorio 3 - Variables aleatorias\n",
    "\n",
    "**Instrucciones**: Escriba programas en Python para resolver los ejercicios."
   ]
  },
  {
   "cell_type": "markdown",
   "id": "7979ecd6",
   "metadata": {},
   "source": [
    "## Ejercicio 1. \n",
    "\n",
    "Una caja contiene 5 pelotas blancas y 3 rojas. Suponga que se extraen 2 pelotas al azar sin reemplazo y $X$ denota el número de pelotas blancas. \n",
    "\n",
    "a. Determine $p(x)$ la función de masa de probabilidad de $X$.\n",
    "\n",
    "b. Determine $F(x)$ la función de distribución acumulada de $X$.\n",
    "\n",
    "c. Trace las representaciones gráficas de $p(x)$ y $F(x)$.\n",
    "\n",
    "d. Encuentre $E[x]$ y $Var(x)$."
   ]
  },
  {
   "cell_type": "code",
   "execution_count": null,
   "id": "72f3cecf",
   "metadata": {},
   "outputs": [],
   "source": []
  },
  {
   "cell_type": "markdown",
   "id": "463f789e",
   "metadata": {},
   "source": [
    "## Ejercicio 2.\n",
    "\n",
    "Repita el Ejercicio 1 suponiendo que las pelotas se extraen con reemplazo."
   ]
  },
  {
   "cell_type": "code",
   "execution_count": null,
   "id": "c89072a0",
   "metadata": {},
   "outputs": [],
   "source": []
  },
  {
   "cell_type": "markdown",
   "id": "d0a72b6d",
   "metadata": {},
   "source": [
    "## Ejercicio 3.\n",
    "\n",
    "Sea $X$ una variable aleatoria que da el número de ases en una extracción al azar de 4 cartas de una baraja ordinaria de 52 cartas.\n",
    "\n",
    "a. Determine $p(x)$ la función de masa de probabilidad de $X$.\n",
    "\n",
    "b. Determine $F(x)$ la función de distribución acumulada de $X$.\n",
    "\n",
    "c. Trace las representaciones gráficas de $p(x)$ y $F(x)$.\n",
    "\n",
    "d. Encuentre $E[X]$ y $Var(X)$.\n",
    "\n",
    "d. Calcule las probabilidades de $P(\\{X\\geq 2\\})$ y $P(\\{1\\leq X\\leq 3\\})$."
   ]
  },
  {
   "cell_type": "code",
   "execution_count": null,
   "id": "90b6ab1a",
   "metadata": {},
   "outputs": [],
   "source": []
  },
  {
   "cell_type": "markdown",
   "id": "fe140296",
   "metadata": {},
   "source": [
    "## Ejercicio 4.\n",
    "\n",
    "Considere la función:\n",
    "$$f(x)=\\left\\{\\begin{array}{rl}ce^{-3x},& x>0\\\\ 0,& x\\leq 0\\end{array}\\right.$$\n",
    "\n",
    "a. Encuentre el valor de $c\\in \\mathbb{R}$ tal que $f$ sea una función de densidad de probabilidad de una variable aleatoria continua $X$.\n",
    "\n",
    "b. Determine $F(x)$ la función de distribución acumulada de la variable aleatoria $X$.\n",
    "\n",
    "c. Trace las representaciones gráficas de $f(x)$ y $F(x)$.\n",
    "\n",
    "d. Encuentre $E[X]$ y $Var(X)$.\n",
    "\n",
    "e. Calcule las probabilidades de $P(\\{1\\leq X\\leq 2\\})$, $P(X\\geq 3)$, $P\\left(\\{2\\leq X\\leq 3\\}|\\{X> 1\\}\\right)$.\n"
   ]
  },
  {
   "cell_type": "code",
   "execution_count": null,
   "id": "d8680bbf",
   "metadata": {},
   "outputs": [],
   "source": []
  },
  {
   "cell_type": "markdown",
   "id": "df02a41e",
   "metadata": {},
   "source": [
    "## Ejercicio 5.\n",
    "\n",
    "Sea $X$ una variable aleatoria continua con función de densidad de probabilidad:\n",
    "$$f(x)=\\left\\{\\begin{array}{rl}\\frac{x}{3},& 0\\leq x\\leq 2\\\\ -\\frac{2}{3}\\left(x-3\\right),& 2<x\\leq 3\\end{array}\\right.$$\n",
    "\n",
    "a. Determine $F(x)$ la función de distribución acumulada de la variable aleatoria $X$.\n",
    "\n",
    "b. Trace las representaciones gráficas de $f(x)$ y $F(x)$.\n",
    "\n",
    "c. Encuentre $E[X]$ y $Var(X)$.\n",
    "\n",
    "d. Determine el valor de $a$ tal que $P(\\{X>a\\})=\\frac{1}{2}$.\n",
    "\n",
    "Sean $A=\\{2\\leq X\\leq 3\\}$ y $B=\\{X>1\\}$ eventos. \n",
    "\n",
    "e. Calcule $P(A|B)$ y $P(B|A)$.\n",
    "\n",
    "f. ¿Son $A$ y $B$ eventos independientes?"
   ]
  },
  {
   "cell_type": "code",
   "execution_count": null,
   "id": "d0c5139e",
   "metadata": {},
   "outputs": [],
   "source": []
  },
  {
   "cell_type": "markdown",
   "id": "d673bb39",
   "metadata": {},
   "source": [
    "## Ejercicio 6.\n",
    "Sea $X$ una variable aleatoria continua que representa el tiempo (en minutos) entre llegadas de clientes a un banco. Si la función de densidad de probabilidad de $X$ es:\n",
    "\n",
    "$$f(x)=\\left\\{\\begin{array}{rl}\\frac{2}{3}e^{-2x/3},& x\\geq 0\\\\ 0,& \\text{caso contrario}\\end{array}\\right.$$\n",
    "\t\t\t\t\t\n",
    "a. ¿Qué es más probable? Que llegue un cliente en los próximos 30 segundos, o que no llegue ningún cliente en los próximos 2 minutos.\n",
    "\n",
    "b. ¿Cuál es la probabilidad de que no llegue ningún cliente en el minuto siguiente, dado que no ha llegado ningún cliente en el último minuto?\n",
    "\n",
    "c. Calcule $E[X]$ y $Var(X)$."
   ]
  },
  {
   "cell_type": "code",
   "execution_count": null,
   "id": "1a656840",
   "metadata": {},
   "outputs": [],
   "source": []
  }
 ],
 "metadata": {
  "kernelspec": {
   "display_name": "Python 3 (ipykernel)",
   "language": "python",
   "name": "python3"
  },
  "language_info": {
   "codemirror_mode": {
    "name": "ipython",
    "version": 3
   },
   "file_extension": ".py",
   "mimetype": "text/x-python",
   "name": "python",
   "nbconvert_exporter": "python",
   "pygments_lexer": "ipython3",
   "version": "3.9.7"
  }
 },
 "nbformat": 4,
 "nbformat_minor": 5
}
