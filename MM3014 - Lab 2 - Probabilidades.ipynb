{
 "cells": [
  {
   "attachments": {},
   "cell_type": "markdown",
   "id": "60200b30",
   "metadata": {},
   "source": [
    "# Laboratorio 2 - Probabilidades\n",
    "\n",
    "### Instrucciones: Escriba programas en Python para generar todos los posibles resultados de cada experimento aleatorio, filtrar según las condiciones de cada evento y contar para resolver los ejercicios."
   ]
  },
  {
   "cell_type": "markdown",
   "id": "4b06e79f",
   "metadata": {},
   "source": [
    "## Ejercicio 1.\n",
    "\n",
    "Suponga que una caja contiene dos monedas de tipo A y una de tipo B. Cuando se lanza una moneda de tipo A, sale cara con probabilidad 1/4, mientras que cuando se lanza una moneda de tipo B, sale cara con probabilidad 3/4. \n",
    "\n",
    "Un experimento aleatorio consiste en elegir al azar una moneda de la urna y lanzarla.\n",
    "\n",
    "Si se sabe que el resultado fue cara, ¿cuál es la probabilidad de que sea una moneda de tipo A?"
   ]
  },
  {
   "cell_type": "code",
   "execution_count": 21,
   "id": "7589f2e6",
   "metadata": {},
   "outputs": [
    {
     "name": "stdout",
     "output_type": "stream",
     "text": [
      "La probabilidad de que la moneda sea de tipo A dado que salió cara es: 40.0%\n"
     ]
    }
   ],
   "source": [
    "from itertools import product\n",
    "\n",
    "P_A = 2/3 \n",
    "P_B = 1/3 \n",
    "P_C_dado_A = 1/4  \n",
    "P_C_dado_B = 3/4  \n",
    "    \n",
    "\n",
    "P_C = P_C_dado_A * P_A + P_C_dado_B * P_B\n",
    "    \n",
    "P_A_dado_C = (P_C_dado_A * P_A) / P_C\n",
    "    \n",
    "\n",
    "\n",
    "resultado = P_A_dado_C*100\n",
    "print(f\"La probabilidad de que la moneda sea de tipo A dado que salió cara es: {resultado}%\")\n"
   ]
  },
  {
   "cell_type": "markdown",
   "id": "029626f5",
   "metadata": {},
   "source": [
    "## Ejercicio 2.\n",
    "\n",
    "Suponga que se extrae un 10 rojo y un 6 rojo de un mazo estándar de cartas. Luego, un experimento aleatorio consiste en extraer una carta del mazo incompleto. \n",
    "\n",
    "Sean $E$ el evento de que la tarjeta extraída es un 10, $F$ el evento en que la carta extraída es roja y $G$ el evento de que la carta extraída sea un 10 o un 6. \n",
    "\n",
    "Demuestre que $E$ y $F$ no son independientes, pero son condicionalmente independientes$^*$ condicionados a $G$.\n",
    "\n",
    "<small> **Definición**: Dos eventos, $E$ y $F$, son _condicionalmente independientes_ dados $G$ si y solo si, la probabilidad de que ambos eventos ocurran al mismo tiempo, dado que $G$ ya ocurrió, es igual al producto de la probabilidad de que cada evento ocurra individualmente, dado que $G$ ya ocurrió. En símbolos: $$P(E \\cap F \\mid G) = P(E \\mid G)P(F \\mid G)$$<small>"
   ]
  },
  {
   "cell_type": "code",
   "execution_count": 22,
   "id": "e67ce71c",
   "metadata": {},
   "outputs": [
    {
     "name": "stdout",
     "output_type": "stream",
     "text": [
      "P(E) = 0.06\n",
      "P(F) = 0.48\n",
      "P(E ∩ F) = 0.02\n",
      "¿E y F son independientes? False\n",
      "P(G) = 0.06\n",
      "P(E | G) = 1.0\n",
      "P(F | G) = 0.33\n",
      "P(E ∩ F | G) = 0.33\n",
      "¿E y F son condicionalmente independientes dado G? True\n"
     ]
    }
   ],
   "source": [
    "import random\n",
    "\n",
    "nums = [1, 2, 3, 4, 5, 6, 7, 8, 9, 10, 'J', 'Q', 'K']\n",
    "palos = ['C', 'D', 'T', 'P']\n",
    "baraja = list(product(nums, palos))\n",
    "\n",
    "random.shuffle(baraja)\n",
    "\n",
    "def remover_carta(baraja, numero, palo):\n",
    "    for carta in baraja:\n",
    "        if carta == (numero, palo):\n",
    "            baraja.remove(carta)\n",
    "            return carta\n",
    "    return None\n",
    "\n",
    "remover_carta(baraja, 10, 'C')\n",
    "remover_carta(baraja, 6, 'D')\n",
    "\n",
    "E = [carta for carta in baraja if carta[0] == 10] \n",
    "F = [carta for carta in baraja if carta[1] in ['C', 'D']] \n",
    "G = [carta for carta in baraja if carta[0] == 10 and 6]\n",
    "\n",
    "P_E = len(E) / len(baraja)\n",
    "P_F = len(F) / len(baraja)\n",
    "P_G = len(G) / len(baraja)\n",
    "P_EF = len(set(E) & set(F)) / len(baraja)\n",
    "\n",
    "# Comprobar independencia de E y F\n",
    "independientes = P_EF == P_E * P_F\n",
    "\n",
    "# Calcular probabilidades condicionales dado G\n",
    "P_E_G = len(set(E) & set(G)) / len(G) if P_G > 0 else 0\n",
    "P_F_G = len(set(F) & set(G)) / len(G) if P_G > 0 else 0 \n",
    "P_EF_G = len(set(E) & set(F) & set(G)) / len(G) if P_G > 0 else 0\n",
    "\n",
    "# Verificar independencia condicional\n",
    "condicionalmente_independientes = P_EF_G == P_E_G * P_F_G\n",
    "\n",
    "print(f\"P(E) = {P_E}\")\n",
    "print(f\"P(F) = {P_F}\")\n",
    "print(f\"P(E ∩ F) = {P_EF}\")\n",
    "print(f\"¿E y F son independientes? {independientes}\")\n",
    "print(f\"P(G) = {P_G}\")\n",
    "print(f\"P(E | G) = {P_E_G}\")\n",
    "print(f\"P(F | G) = {P_F_G:.2f}\")\n",
    "print(f\"P(E ∩ F | G) = {P_EF_G:.2f}\")\n",
    "print(f\"¿E y F son condicionalmente independientes dado G? {condicionalmente_independientes}\")\n",
    "\n"
   ]
  },
  {
   "cell_type": "markdown",
   "id": "d3df9906",
   "metadata": {},
   "source": [
    "## Ejercicio 3. \n",
    "Un experimento aleatorio consiste en extraer tres cartas con reemplazo$^*$ de un mazo estándar de 52 cartas. \n",
    "\n",
    "Sean $E$ el evento de que la carta 1 y la carta 2 tienen el mismo palo; $F$ el evento que la carta 2 y la\n",
    "carta 3 tienen el mismo palo y $G$ sea el evento de que la carta 1 y la carta 3 tienen el mismo palo. \n",
    "\n",
    "Demuestre que estos eventos son independientes por pares, pero no independientes.\n",
    "\n",
    "<small> $^*$ Se extrae una carta, se toma nota y se regresa al mazo, se mezclan las cartas, se extrae la siguiente, se toma nota, se mezclan, y se extrae la tercera. <small>"
   ]
  },
  {
   "cell_type": "code",
   "execution_count": 23,
   "id": "1783e7a9",
   "metadata": {},
   "outputs": [
    {
     "name": "stdout",
     "output_type": "stream",
     "text": [
      "P(E) = 0.25\n",
      "P(F) = 0.25\n",
      "P(E ∩ F) = 0.0\n",
      "¿E y F son independientes? False\n",
      "P(G) = 0.25\n",
      "P(E | G) = 0.0\n",
      "P(F | G) = 0.0\n",
      "P(E ∩ F | G) = 0.0\n",
      "¿E y F son condicionalmente independientes dado G? True\n"
     ]
    }
   ],
   "source": [
    "import random\n",
    "from itertools import product\n",
    "\n",
    "nums = [1, 2, 3, 4, 5, 6, 7, 8, 9, 10, 'J', 'Q', 'K']\n",
    "palos = ['C', 'D', 'T', 'P'] \n",
    "baraja = list(product(nums, palos))\n",
    "\n",
    "\n",
    "def extraer_carta(baraja):\n",
    "    carta = random.choice(baraja)\n",
    "    return carta\n",
    "\n",
    "\n",
    "cartas_extraidas = [extraer_carta(baraja) for i in range(3)]\n",
    "\n",
    "\n",
    "E = cartas_extraidas[0][1] == cartas_extraidas[1][1]  \n",
    "F = cartas_extraidas[1][1] == cartas_extraidas[2][1]  \n",
    "G = cartas_extraidas[0][1] == cartas_extraidas[2][1]  \n",
    "\n",
    "P_E = len([carta for carta in baraja if carta[1] == cartas_extraidas[0][1]]) / len(baraja)\n",
    "P_F = len([carta for carta in baraja if carta[1] == cartas_extraidas[1][1]]) / len(baraja)\n",
    "P_G = len([carta for carta in baraja if carta[1] == cartas_extraidas[2][1]]) / len(baraja)\n",
    "P_EF = len([carta for carta in baraja if carta[1] == cartas_extraidas[0][1] and carta[1] == cartas_extraidas[1][1]]) / len(baraja)\n",
    "\n",
    "# Comprobar independencia de E y F\n",
    "independientes = P_EF == P_E * P_F\n",
    "\n",
    "# Calcular probabilidades condicionales dado G\n",
    "P_E_G = len([carta for carta in baraja if carta[1] == cartas_extraidas[0][1] and carta[1] == cartas_extraidas[2][1]]) / len([carta for carta in baraja if carta[1] == cartas_extraidas[2][1]]) if P_G > 0 else 0\n",
    "P_F_G = len([carta for carta in baraja if carta[1] == cartas_extraidas[1][1] and carta[1] == cartas_extraidas[2][1]]) / len([carta for carta in baraja if carta[1] == cartas_extraidas[2][1]]) if P_G > 0 else 0\n",
    "P_EF_G = len([carta for carta in baraja if carta[1] == cartas_extraidas[0][1] and carta[1] == cartas_extraidas[1][1] and carta[1] == cartas_extraidas[2][1]]) / len([carta for carta in baraja if carta[1] == cartas_extraidas[2][1]]) if P_G > 0 else 0\n",
    "\n",
    "# Verificar independencia condicional\n",
    "condicionalmente_independientes = P_EF_G == P_E_G * P_F_G\n",
    "\n",
    "print(f\"P(E) = {P_E}\")\n",
    "print(f\"P(F) = {P_F}\")\n",
    "print(f\"P(E ∩ F) = {P_EF}\")\n",
    "print(f\"¿E y F son independientes? {independientes}\")\n",
    "print(f\"P(G) = {P_G}\")\n",
    "print(f\"P(E | G) = {P_E_G}\")\n",
    "print(f\"P(F | G) = {P_F_G}\")\n",
    "print(f\"P(E ∩ F | G) = {P_EF_G}\")\n",
    "print(f\"¿E y F son condicionalmente independientes dado G? {condicionalmente_independientes}\")\n",
    "\n"
   ]
  },
  {
   "attachments": {},
   "cell_type": "markdown",
   "id": "5cc4f0ab",
   "metadata": {},
   "source": [
    "## Ejercicio 4.\n",
    "\n",
    "Supongamos que la caja 1 contiene una pelota blanca y cuatro rojas, la caja 2 contiene dos pelotas blancas y tres rojas, y la caja 3 contiene tres pelotas blancas y dos rojas. En un experimento, se selecciona al azar una caja y, luego, se escogen tres pelotas. \n",
    "\n",
    "a. Si se sabe que la caja 1 no ha sido seleccionada, ¿cuál es la probabilidad de escoger exactamente dos pelotas rojas?\n",
    "\n",
    "b. Determine qué es más probable: salgan exactamente dos pelotas rojas o que salgan más pelotas blancas que rojas.\n",
    "\n",
    "c. Si se sabe que han salido exactamente dos pelotas rojas, ¿cuál es la probabilidad de que se haya escogido la caja 3?"
   ]
  },
  {
   "cell_type": "code",
   "execution_count": 24,
   "id": "fb2d8387",
   "metadata": {},
   "outputs": [
    {
     "name": "stdout",
     "output_type": "stream",
     "text": [
      "a) \n",
      "La probabilidad de que sean dos rojas dado que la caja 1 no fue seleccionada es de 0.45\n",
      "b)\n",
      "Es mas probable que salgan dos rojas\n",
      "La probabilidad de dos rojas es de 0.50 mientras que la de mas blancas es de 0.33\n",
      "c)\n",
      "La probabilidad de que se haya escogido la caja 3 dado que han salido dos rojas es de 0.20\n"
     ]
    }
   ],
   "source": [
    "import itertools as it\n",
    "print(f'a) ')\n",
    "c2 = 1/2\n",
    "c3 = 1/2\n",
    "\n",
    "caja1 = ['b1','r1','r2','r3','r4']\n",
    "caja2 = ['b1','b2','r1','r2','r3']\n",
    "caja3 = ['b1','b2','b3','r1','r2']\n",
    "resultadosc1 = list(it.combinations(caja1, 3))\n",
    "resultadosc2 = list(it.combinations(caja2, 3))\n",
    "resultadosc3 = list(it.combinations(caja3, 3))\n",
    "\n",
    "def contar_rojas(combinacion): \n",
    "    return sum(1 for pelota in combinacion if pelota.startswith(\"r\"))\n",
    "\n",
    "e_dado_c2 = sum(1 for caso in resultadosc2 if contar_rojas(caso) == 2)/len(resultadosc2)\n",
    "e_dado_c3 = sum(1 for caso in resultadosc3 if contar_rojas(caso) == 2)/len(resultadosc3)\n",
    "\n",
    "resultadoa = c2*e_dado_c2 + c3*e_dado_c3\n",
    "\n",
    "print(f\"La probabilidad de que sean dos rojas dado que la caja 1 no fue seleccionada es de {resultadoa:.2f}\")\n",
    "c1 = 1/3\n",
    "c2 = 1/3\n",
    "c3 = 1/3\n",
    "\n",
    "print(\"b)\")\n",
    "def contar_blancas(combinacion): \n",
    "    return sum(1 for pelota in combinacion if pelota.startswith(\"b\"))\n",
    "\n",
    "e_dado_c1_blancas = sum(1 for caso in resultadosc1 if contar_blancas(caso) > contar_rojas(caso)) / len(resultadosc1)\n",
    "e_dado_c2_blancas = sum(1 for caso in resultadosc2 if contar_blancas(caso) > contar_rojas(caso)) / len(resultadosc2)\n",
    "e_dado_c3_blancas = sum(1 for caso in resultadosc3 if contar_blancas(caso) > contar_rojas(caso)) / len(resultadosc3)\n",
    "prob_mas_blancas = c1*e_dado_c1_blancas + c2*e_dado_c2_blancas + c3*e_dado_c3_blancas\n",
    "\n",
    "e_dado_c1_2rojas = sum(1 for caso in resultadosc1 if contar_rojas(caso) == 2)/ len(resultadosc1)\n",
    "e_dado_c2_2rojas = sum(1 for caso in resultadosc2 if contar_rojas(caso) == 2)/ len(resultadosc2)\n",
    "e_dado_c3_2rojas = sum(1 for caso in resultadosc3 if contar_rojas(caso) == 2)/ len(resultadosc3)\n",
    "prob_2rojas = c1*e_dado_c1_2rojas + c2*e_dado_c2_2rojas + c3*e_dado_c3_2rojas\n",
    "\n",
    "if resultadoa > prob_mas_blancas:\n",
    "    print(\"Es mas probable que salgan dos rojas\")\n",
    "else:\n",
    "    print(\"Es mas probable que salgan más pelotas blancas\")\n",
    "\n",
    "print(f\"La probabilidad de dos rojas es de {prob_2rojas:.2f} mientras que la de mas blancas es de {prob_mas_blancas:.2f}\")\n",
    "\n",
    "print(\"c)\")\n",
    "prob_c3_dado_2rojas = (c3* e_dado_c3_2rojas) / prob_2rojas\n",
    "\n",
    "print(f\"La probabilidad de que se haya escogido la caja 3 dado que han salido dos rojas es de {prob_c3_dado_2rojas:.2f}\")\n"
   ]
  }
 ],
 "metadata": {
  "kernelspec": {
   "display_name": "Python 3",
   "language": "python",
   "name": "python3"
  },
  "language_info": {
   "codemirror_mode": {
    "name": "ipython",
    "version": 3
   },
   "file_extension": ".py",
   "mimetype": "text/x-python",
   "name": "python",
   "nbconvert_exporter": "python",
   "pygments_lexer": "ipython3",
   "version": "3.12.3"
  }
 },
 "nbformat": 4,
 "nbformat_minor": 5
}
